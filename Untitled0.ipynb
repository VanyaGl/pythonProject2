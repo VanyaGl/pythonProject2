{
  "nbformat": 4,
  "nbformat_minor": 0,
  "metadata": {
    "colab": {
      "provenance": [],
      "authorship_tag": "ABX9TyOGpbNOfbqIzlfMf/ZY+VX5",
      "include_colab_link": true
    },
    "kernelspec": {
      "name": "python3",
      "display_name": "Python 3"
    },
    "language_info": {
      "name": "python"
    }
  },
  "cells": [
    {
      "cell_type": "markdown",
      "metadata": {
        "id": "view-in-github",
        "colab_type": "text"
      },
      "source": [
        "<a href=\"https://colab.research.google.com/github/VanyaGl/pythonProject2/blob/main/Untitled0.ipynb\" target=\"_parent\"><img src=\"https://colab.research.google.com/assets/colab-badge.svg\" alt=\"Open In Colab\"/></a>"
      ]
    },
    {
      "cell_type": "code",
      "execution_count": null,
      "metadata": {
        "id": "2dOIjPJM2PEB"
      },
      "outputs": [],
      "source": []
    },
    {
      "cell_type": "code",
      "source": [
        "# A) Нечётные числа, делящиеся на 3 или 5\n",
        "\n",
        "def find_odd_divisibles():\n",
        "    \"\"\"\n",
        "    Выводит нечётные числа, делящиеся на 3 или 5, в заданном диапазоне.\n",
        "    \"\"\"\n",
        "    try:\n",
        "        num1 = int(input(\"Введите первое число (num1): \"))\n",
        "        num2 = int(input(\"Введите второе число (num2): \"))\n",
        "\n",
        "        if num2 < num1 or num1 < 0:\n",
        "            print(\"Введён неверный диапазон чисел\")\n",
        "            return\n",
        "\n",
        "        for i in range(num1, num2 + 1):\n",
        "            if i % 2 != 0 and (i % 3 == 0 or i % 5 == 0):\n",
        "                print(i)\n",
        "\n",
        "    except ValueError:\n",
        "        print(\"Ошибка: Пожалуйста, введите целые числа.\")\n",
        "\n",
        "# B) Расчёт времени достижения цели по вкладу\n",
        "\n",
        "def calculate_years_for_target():\n",
        "    \"\"\"\n",
        "    Рассчитывает, через сколько лет вклад достигнет заданной суммы.\n",
        "    \"\"\"\n",
        "    try:\n",
        "        Y = float(input(\"Введите сумму вклада (Y): \"))\n",
        "        Z = float(input(\"Введите целевую сумму (Z): \"))\n",
        "\n",
        "        if Y <= 0 or Z <= Y:\n",
        "            print(\"Некорректные входные данные.  Сумма вклада должна быть положительной, а целевая сумма - больше суммы вклада.\")\n",
        "            return\n",
        "\n",
        "        years = 0\n",
        "        while Y < Z:\n",
        "            Y *= 1.10  # Увеличение на 10%\n",
        "            years += 1\n",
        "\n",
        "        print(f\"Клиент достигнет суммы не менее {Z} рублей через {years} лет.\")\n",
        "\n",
        "    except ValueError:\n",
        "        print(\"Ошибка: Пожалуйста, введите числа.\")\n",
        "\n",
        "\n",
        "# Вызов функций для запуска программ\n",
        "print(\"Программа A:\")\n",
        "find_odd_divisibles()\n",
        "\n",
        "print(\"\\nПрограмма B:\")\n",
        "calculate_years_for_target()\n",
        "\n"
      ],
      "metadata": {
        "colab": {
          "base_uri": "https://localhost:8080/"
        },
        "id": "HG7ZUq8q2Qx1",
        "outputId": "d103947f-879e-404d-c81c-f5f4e9b5c18e"
      },
      "execution_count": 1,
      "outputs": [
        {
          "output_type": "stream",
          "name": "stdout",
          "text": [
            "Программа A:\n",
            "Введите первое число (num1): 2\n",
            "Введите второе число (num2): 23\n",
            "3\n",
            "5\n",
            "9\n",
            "15\n",
            "21\n",
            "\n",
            "Программа B:\n",
            "Введите сумму вклада (Y): 5000\n",
            "Введите целевую сумму (Z): 6000\n",
            "Клиент достигнет суммы не менее 6000.0 рублей через 2 лет.\n"
          ]
        }
      ]
    }
  ]
}