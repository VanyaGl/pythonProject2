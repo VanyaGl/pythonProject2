{
  "nbformat": 4,
  "nbformat_minor": 0,
  "metadata": {
    "colab": {
      "provenance": [],
      "authorship_tag": "ABX9TyOwGjsYkH5DfeygsL3SG3+n",
      "include_colab_link": true
    },
    "kernelspec": {
      "name": "python3",
      "display_name": "Python 3"
    },
    "language_info": {
      "name": "python"
    }
  },
  "cells": [
    {
      "cell_type": "markdown",
      "metadata": {
        "id": "view-in-github",
        "colab_type": "text"
      },
      "source": [
        "<a href=\"https://colab.research.google.com/github/VanyaGl/pythonProject2/blob/main/praktuka_3.ipynb\" target=\"_parent\"><img src=\"https://colab.research.google.com/assets/colab-badge.svg\" alt=\"Open In Colab\"/></a>"
      ]
    },
    {
      "cell_type": "code",
      "execution_count": 2,
      "metadata": {
        "colab": {
          "base_uri": "https://localhost:8080/"
        },
        "id": "oPO8W1iQk9ST",
        "outputId": "d9706646-f784-49f2-c5c4-fa92e749ae09"
      },
      "outputs": [
        {
          "output_type": "stream",
          "name": "stdout",
          "text": [
            "Ошибка: Файл 'data.json' не найден.\n"
          ]
        }
      ],
      "source": [
        "import json\n",
        "\n",
        "def count_page_actions(filename=\"data.json\", client_id=62602):\n",
        "    \"\"\"\n",
        "    Подсчитывает количество действий с категорией \"page\", совершенных клиентом\n",
        "    с заданным ID в JSON-файле.\n",
        "\n",
        "    Args:\n",
        "        filename (str): Имя файла JSON.\n",
        "        client_id (int): ID клиента.\n",
        "\n",
        "    Returns:\n",
        "        int: Количество действий.\n",
        "    \"\"\"\n",
        "    try:\n",
        "        with open(filename, 'r', encoding='utf-8') as f:  # Указываем кодировку utf-8\n",
        "            data = json.load(f)\n",
        "\n",
        "        count = 0\n",
        "        for event in data:\n",
        "            if event.get(\"client_id\") == client_id and event.get(\"category\") == \"page\":\n",
        "                count += 1\n",
        "\n",
        "        return count\n",
        "\n",
        "    except FileNotFoundError:\n",
        "        print(f\"Ошибка: Файл '{filename}' не найден.\")\n",
        "        return None\n",
        "    except json.JSONDecodeError:\n",
        "        print(f\"Ошибка: Некорректный формат JSON в файле '{filename}'.\")\n",
        "        return None\n",
        "    except Exception as e:\n",
        "        print(f\"Произошла ошибка: {e}\") # Выводим информацию об ошибке для отладки\n",
        "        return None\n",
        "\n",
        "# Пример использования\n",
        "filename = \"data.json\"  # Укажите имя вашего файла\n",
        "client_id = 62602\n",
        "action_count = count_page_actions(filename, client_id)\n",
        "\n",
        "if action_count is not None:\n",
        "    print(f\"Клиент {client_id} совершил {action_count} действий с категорией 'page'.\")\n"
      ]
    }
  ]
}